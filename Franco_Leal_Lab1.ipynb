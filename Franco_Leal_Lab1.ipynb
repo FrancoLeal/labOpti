{
 "cells": [
  {
   "cell_type": "markdown",
   "metadata": {},
   "source": [
    "# Métodos de Optimización\n",
    "## Laboratorio N°1 Programación Lineal\n",
    "## Profesor: Cristián Sepúlveda\n",
    "## Estudiante: Franco Leal Guarda\n",
    "### Problema 1: Selección de portafolio\n",
    "\n",
    "$$ maximizar \\quad \\frac{5.3}{100}x_{1} + \\frac{6.2}{100}x_{2} + \\frac{5.1}{100}x_{3} + \\frac{4.9}{100}x_{4} + \\frac{6.5}{100}x_{5} + \\frac{3.4}{100}x_{6} \\\\\n",
    "s.a. 5000 \\quad \\leq x_{1} \\leq 40000 \\\\ 5000 \\leq x_{2} \\leq 40000 \\\\ 5000  \\leq x_{3} \\leq 40000 \\\\5000 \\leq x_{4} \\leq 40000 \\\\ 5000 \\leq x_{5} \\leq 40000 \\\\ 5000 \\leq x_{6} \\leq 40000 \\\\\n",
    "x_{i} \\geq 0$$\n",
    "En que $x_{i}$ corresponde a una de las 6 acciones, ya sea de Japón, Reino Unido, etc"
   ]
  },
  {
   "cell_type": "code",
   "execution_count": 10,
   "metadata": {},
   "outputs": [
    {
     "name": "stdout",
     "output_type": "stream",
     "text": [
      "\u001b[32m\u001b[1m Resolving\u001b[22m\u001b[39m package versions...\n",
      "\u001b[32m\u001b[1m  Updating\u001b[22m\u001b[39m `~/.julia/environments/v1.1/Project.toml`\n",
      "\u001b[90m [no changes]\u001b[39m\n",
      "\u001b[32m\u001b[1m  Updating\u001b[22m\u001b[39m `~/.julia/environments/v1.1/Manifest.toml`\n",
      "\u001b[90m [no changes]\u001b[39m\n",
      "\u001b[32m\u001b[1m Resolving\u001b[22m\u001b[39m package versions...\n",
      "\u001b[32m\u001b[1m  Updating\u001b[22m\u001b[39m `~/.julia/environments/v1.1/Project.toml`\n",
      "\u001b[90m [no changes]\u001b[39m\n",
      "\u001b[32m\u001b[1m  Updating\u001b[22m\u001b[39m `~/.julia/environments/v1.1/Manifest.toml`\n",
      "\u001b[90m [no changes]\u001b[39m\n",
      "\u001b[32m\u001b[1m  Building\u001b[22m\u001b[39m SpecialFunctions → `~/.julia/packages/SpecialFunctions/fvheQ/deps/build.log`\n"
     ]
    }
   ],
   "source": [
    "import Pkg # Importa el administrador de paquetes Pkg\n",
    "Pkg.add(\"JuMP\") # Instala el paquete JuMP\n",
    "Pkg.add(\"GLPK\") # Instala el paquete GLPK\n",
    "Pkg.build(\"SpecialFunctions\")"
   ]
  },
  {
   "cell_type": "code",
   "execution_count": 106,
   "metadata": {
    "scrolled": true
   },
   "outputs": [
    {
     "name": "stdout",
     "output_type": "stream",
     "text": [
      "Valor objetivo óptimo: 5755.0\n",
      "Acción 1=5000.0\n",
      "Acción 2=20000.0\n",
      "Acción 3=5000.0\n",
      "Acción 4=25000.0\n",
      "Acción 5=40000.0\n",
      "Acción 6=5000.0\n"
     ]
    }
   ],
   "source": [
    "using JuMP # Importa el modulo JuMP.\n",
    "using GLPK # Importa el modulo GLPK para utilizar el solver.\n",
    "\n",
    "modeloUno = Model(with_optimizer(GLPK.Optimizer))\n",
    "@variable(modeloUno, x[1:6] >= 0) \n",
    "\n",
    "@objective(modeloUno, Max, 5.3/100*x[1] + 6.2/100*x[2] + 5.1/100*x[3] + 4.9/100*x[4] + 6.5/100*x[5] + 3.4/100*x[6])\n",
    "\n",
    "@constraint(modeloUno, 5000<= x[1] <= 40000)\n",
    "@constraint(modeloUno, 5000<= x[2] <= 40000)\n",
    "@constraint(modeloUno, 5000<= x[3] <= 40000)\n",
    "@constraint(modeloUno, 5000<= x[4] <= 40000)\n",
    "@constraint(modeloUno, 5000<= x[5] <= 40000)\n",
    "@constraint(modeloUno, 5000<= x[6] <= 40000)\n",
    "\n",
    "@constraint(modeloUno, x[1] + x[2] + x[3] <= 30000)\n",
    "@constraint(modeloUno, x[2] + x[3] + x[5] + x[6] >= 50000) \n",
    "@constraint(modeloUno, x[1] + x[2] + x[3] + x[4] + x[5] + x[6] == 100000) \n",
    "\n",
    "optimize!(modeloUno)\n",
    "println(\"Valor objetivo óptimo: \",objective_value(modeloUno))\n",
    "for i in 1:6\n",
    "    println(\"Acción \",i,\"=\",value(x[i]))\n",
    "end"
   ]
  },
  {
   "cell_type": "markdown",
   "metadata": {},
   "source": [
    "### Problema 2: Producción de aleaciones\n",
    "\n",
    "$$ minimizar \\quad 200x_{1} + 250x_{2} + 150x_{3} + 220x_{4} + 240x_{5} + 200x_{6} + 165x_{7} \\\\\n",
    "s.a \\quad 0.025x_{1} + 0.03x_{2} \\geq 0.02(x_{1} + x_{2} + x_{3} + x_{4} + x_{5} + x_{6} + x_{7}) \\\\\n",
    "0.003x_{3} + 0.9x_{4} + 0.96x_{5} + 0.004x_{6} + 0.006x_{7} \\geq 0.004(x_{1} + x_{2} + x_{3} + x_{4} + x_{5} + x_{6} + x_{7})\\\\\n",
    "0.013x_{1} + 0.008x_{2} + 0.04x_{5} + 0.012x_{6} \\geq 0.012(x_{1} + x_{2} + x_{3} + x_{4} + x_{5} + x_{6} + x_{7})\\\\\n",
    "0.025x_{1} + 0.03x_{2} \\leq 0.03(x_{1} + x_{2} + x_{3} + x_{4} + x_{5} + x_{6} + x_{7}) \\\\\n",
    "0.003x_{3} + 0.9x_{4} + 0.96x_{5} + 0.004x_{6} + 0.006x_{7} \\leq 0.006(x_{1} + x_{2} + x_{3} + x_{4} + x_{5} + x_{6} + x_{7})\\\\\n",
    "0.013x_{1} + 0.008x_{2} + 0.04x_{5} + 0.012x_{6} \\leq 0.0165(x_{1} + x_{2} + x_{3} + x_{4} + x_{5} + x_{6} + x_{7})\\\\\n",
    "0 \\leq x_{1} \\leq 400\\\\\n",
    "0 \\leq x_{2} \\leq 300\\\\\n",
    "0 \\leq x_{3} \\leq 600\\\\\n",
    "0 \\leq x_{4} \\leq 500\\\\\n",
    "0 \\leq x_{5} \\leq 200\\\\\n",
    "0 \\leq x_{6} \\leq 300\\\\\n",
    "0 \\leq x_{7} \\leq 250\\\\\n",
    "x_{1} + x_{2} + x_{3} + x_{4} + x_{5} + x_{6} + x_{7} = 500\n",
    "$$\n",
    "Cada $x_{i}$ representa la cantidad de materia prima de cada tipo."
   ]
  },
  {
   "cell_type": "code",
   "execution_count": 110,
   "metadata": {},
   "outputs": [
    {
     "name": "stdout",
     "output_type": "stream",
     "text": [
      "Valor objetivo óptimo: 98121.6357916812\n",
      "Hierro 1: 399.9999999999999 t\n",
      "Hierro 2: 0.0 t\n",
      "Hierro 3: 39.7763019923103 t\n",
      "Cobre 1: 0.0 t\n",
      "Cobre 2: 2.761272282418734 t\n",
      "Aluminio 1: 57.46242572527089 t\n",
      "Aluminio 2: 0.0 t\n"
     ]
    }
   ],
   "source": [
    "modeloDos = Model(with_optimizer(GLPK.Optimizer))\n",
    "@variable(modeloDos, x[1:7] >= 0)\n",
    "\n",
    "@objective(modeloDos, Min, 200*x[1] + 250*x[2] + 150*x[3] + 220*x[4] + 240*x[5] + 200*x[6] + 165*x[7])\n",
    "\n",
    "@constraint(modeloDos, 0.025*x[1] + 0.03*x[2] >= 0.02*sum(x[i] for i in 1:7))\n",
    "@constraint(modeloDos, 0.003*x[3] + 0.9*x[4] + 0.96*x[5] + 0.004*x[6] + 0.006*x[7] >= 0.004*sum(x[i] for i in 1:7))\n",
    "@constraint(modeloDos, 0.013*x[1] + 0.008*x[2] + 0.04*x[5] + 0.012*x[6] >= 0.012*sum(x[i] for i in 1:7))\n",
    "\n",
    "@constraint(modeloDos, 0.025*x[1] + 0.03*x[2] <= 0.03*sum(x[i] for i in 1:7))\n",
    "@constraint(modeloDos, 0.003*x[3] + 0.9*x[4] + 0.96*x[5] + 0.004*x[6] + 0.006*x[7] <= 0.006*sum(x[i] for i in 1:7))\n",
    "@constraint(modeloDos, 0.013*x[1] + 0.008*x[2] + 0.004*x[5] + 0.012*x[6] <= 0.0165*sum(x[i] for i in 1:7))\n",
    "@constraint(modeloDos, x[1] <= 400)\n",
    "@constraint(modeloDos, x[2] <= 300)\n",
    "@constraint(modeloDos, x[3] <= 600)\n",
    "@constraint(modeloDos, x[4] <= 500)\n",
    "@constraint(modeloDos, x[5] <= 200)\n",
    "@constraint(modeloDos, x[6] <= 300)\n",
    "@constraint(modeloDos, x[7] <= 250)\n",
    "@constraint(modeloDos, sum(x[i] for i in 1:7) == 500)\n",
    "\n",
    "optimize!(modeloDos) \n",
    "println(\"Valor objetivo óptimo: \",objective_value(modeloDos))\n",
    "println(\"Hierro 1: \",value(x[1]),\" t\")\n",
    "println(\"Hierro 2: \",value(x[2]),\" t\")\n",
    "println(\"Hierro 3: \",value(x[3]),\" t\")\n",
    "println(\"Cobre 1: \",value(x[4]),\" t\")\n",
    "println(\"Cobre 2: \",value(x[5]),\" t\")\n",
    "println(\"Aluminio 1: \",value(x[6]),\" t\")\n",
    "println(\"Aluminio 2: \",value(x[7]),\" t\")"
   ]
  },
  {
   "cell_type": "markdown",
   "metadata": {},
   "source": [
    "### Problema 3: Problema de Planificación\n",
    "$$maximizar \\quad \\sum (valor_{i}-costo_{i})*x_{i}, i=1,...,18\\\\\n",
    "s.a x_{a} \\leq x_{b}, \\forall (a,b) \\epsilon A$$\n",
    "Las variables de decisión $x_{i}$ corresponden a cada bloque del problema (del 1 al 18) y son binarias ($x_{i} \\epsilon {0,1}$).\n",
    "\n",
    "Las constantes $costo_{i}$ corresponde al costo de extracción asociado a cada bloque.\n",
    "\n",
    "Las constantes $valor_{i}$ corresponde al valor de venta asociado a cada bloque.\n",
    "\n",
    "A se define como un conjunto de pares $(a,b)$, donde a es el bloque que se desea sacar y b el bloque necesario extraer antes que a. Por ejemplo, para extraer 11, es necesario extraer 2, 3 y 4 antes, lo que implica que en A se encuentran los pares (11,2),(11,3), (11,4).\n"
   ]
  },
  {
   "cell_type": "code",
   "execution_count": 111,
   "metadata": {
    "scrolled": true
   },
   "outputs": [
    {
     "name": "stdout",
     "output_type": "stream",
     "text": [
      "Valor objetivo óptimo: 4.0e6\n",
      "Bloque 1=1.0\n",
      "Bloque 2=1.0\n",
      "Bloque 3=1.0\n",
      "Bloque 4=1.0\n",
      "Bloque 5=1.0\n",
      "Bloque 6=1.0\n",
      "Bloque 7=1.0\n",
      "Bloque 8=0.0\n",
      "Bloque 9=0.0\n",
      "Bloque 10=1.0\n",
      "Bloque 11=1.0\n",
      "Bloque 12=1.0\n",
      "Bloque 13=1.0\n",
      "Bloque 14=0.0\n",
      "Bloque 15=0.0\n",
      "Bloque 16=0.0\n",
      "Bloque 17=1.0\n",
      "Bloque 18=0.0\n"
     ]
    }
   ],
   "source": [
    "modeloTres = Model(with_optimizer(GLPK.Optimizer))\n",
    "@variable(modeloTres, x[1:18], Bin)\n",
    "valor = [200;0;0;0;0;0;300;0;0;500;0;200;0;0;0;0;1000;1200]\n",
    "costo = [100;100;100;100;100;100;100;100;1000;200;200;200;200;1000;1000;1000;300;1000]\n",
    "@objective(modeloTres, Max, sum((valor[i]-costo[i])*x[i] for i in 1:18))\n",
    "\n",
    "A = [[9 1];[9 2];[9 3];[10 2];[10 3];[10 4];[11 3];[11 4];[11 5];[12 4];[12 5];[12 6];[13 5];[13 6];[13 7];[14 6];[14 7];[14 8];\n",
    "    [15 9];[15 10];[15 11];[16 10];[16 11];[16 12];[17 11];[17 12];[17 13];[18 12];[18 13];[18 14]]\n",
    "\n",
    "@constraint(modeloTres,[i = 1:30],x[A[i, 1]]<=x[A[i, 2]])\n",
    "\n",
    "optimize!(modeloTres)\n",
    "println(\"Valor objetivo óptimo: \",objective_value(modeloTres)*10000)\n",
    "for i in 1:18\n",
    "    println(\"Bloque \",i,\"=\",value(x[i]))\n",
    "end"
   ]
  },
  {
   "cell_type": "markdown",
   "metadata": {},
   "source": [
    "### Problema 4: Problema de programación\n",
    "$$ minimizar \\quad \\sum y_{i} \\\\\n",
    "s.a \\sum x_{ij} = 1 \\quad i,j = 1,...,n \\\\\n",
    "x_{ij}-y_{j} \\leq 0 \\\\\n",
    "x_{ik} + x_{jk} \\leq 1 (i,j) \\epsilon A$$\n",
    "A es el conjunto de aristas del grafo.\n",
    "\n",
    "Cada $y_{i}$ indica un horario distinto (el peor caso es usar 7 horarios distintos).\n",
    "\n",
    "Cada $x_{i,j}$ indica si se asigna o no un examen (i) a un horario (j).\n",
    "\n",
    "Cabe destacar que son todas variables binarias."
   ]
  },
  {
   "cell_type": "code",
   "execution_count": 153,
   "metadata": {},
   "outputs": [
    {
     "name": "stdout",
     "output_type": "stream",
     "text": [
      "Valor objetivo óptimo: 4.0\n"
     ]
    }
   ],
   "source": [
    "modeloCuatro = Model(with_optimizer(GLPK.Optimizer))\n",
    "@variable(modeloCuatro, x1[1:7], Bin)\n",
    "@variable(modeloCuatro, x2[1:7], Bin)\n",
    "@variable(modeloCuatro, x3[1:7], Bin)\n",
    "@variable(modeloCuatro, x4[1:7], Bin)\n",
    "@variable(modeloCuatro, x5[1:7], Bin)\n",
    "@variable(modeloCuatro, x6[1:7], Bin)\n",
    "@variable(modeloCuatro, x7[1:7], Bin)\n",
    "@variable(modeloCuatro, y[1:7], Bin)\n",
    "\n",
    "@objective(modeloCuatro, Min, sum(y[i] for i in 1:7))\n",
    "\n",
    "@constraint(modeloCuatro, sum(x1[i] for i in 1:7)==1)\n",
    "@constraint(modeloCuatro, sum(x2[i] for i in 1:7)==1)\n",
    "@constraint(modeloCuatro, sum(x3[i] for i in 1:7)==1)\n",
    "@constraint(modeloCuatro, sum(x4[i] for i in 1:7)==1)\n",
    "@constraint(modeloCuatro, sum(x5[i] for i in 1:7)==1)\n",
    "@constraint(modeloCuatro, sum(x6[i] for i in 1:7)==1)\n",
    "@constraint(modeloCuatro, sum(x7[i] for i in 1:7)==1)\n",
    "\n",
    "@constraint(modeloCuatro, [i = 1:7] ,x1[i]-y[i] <= 0)\n",
    "@constraint(modeloCuatro, [i = 1:7] ,x2[i]-y[i] <= 0)\n",
    "@constraint(modeloCuatro, [i = 1:7] ,x3[i]-y[i] <= 0)\n",
    "@constraint(modeloCuatro, [i = 1:7] ,x4[i]-y[i] <= 0)\n",
    "@constraint(modeloCuatro, [i = 1:7] ,x5[i]-y[i] <= 0)\n",
    "@constraint(modeloCuatro, [i = 1:7] ,x6[i]-y[i] <= 0)\n",
    "@constraint(modeloCuatro, [i = 1:7] ,x7[i]-y[i] <= 0)\n",
    "\n",
    "@constraint(modeloCuatro, [i = 1:7], x1[i] + x2[i] <= 1)\n",
    "@constraint(modeloCuatro, [i = 1:7], x1[i] + x3[i] <= 1)\n",
    "@constraint(modeloCuatro, [i = 1:7], x1[i] + x4[i] <= 1)\n",
    "@constraint(modeloCuatro, [i = 1:7], x1[i] + x7[i] <= 1)\n",
    "@constraint(modeloCuatro, [i = 1:7], x2[i] + x3[i] <= 1)\n",
    "@constraint(modeloCuatro, [i = 1:7], x2[i] + x4[i] <= 1)\n",
    "@constraint(modeloCuatro, [i = 1:7], x2[i] + x5[i] <= 1)\n",
    "@constraint(modeloCuatro, [i = 1:7], x2[i] + x7[i] <= 1)\n",
    "@constraint(modeloCuatro, [i = 1:7], x3[i] + x4[i] <= 1)\n",
    "@constraint(modeloCuatro, [i = 1:7], x3[i] + x6[i] <= 1)\n",
    "@constraint(modeloCuatro, [i = 1:7], x3[i] + x7[i] <= 1)\n",
    "@constraint(modeloCuatro, [i = 1:7], x4[i] + x5[i] <= 1)\n",
    "@constraint(modeloCuatro, [i = 1:7], x4[i] + x6[i] <= 1)\n",
    "@constraint(modeloCuatro, [i = 1:7], x5[i] + x6[i] <= 1)\n",
    "@constraint(modeloCuatro, [i = 1:7], x5[i] + x7[i] <= 1)\n",
    "@constraint(modeloCuatro, [i = 1:7], x6[i] + x7[i] <= 1)\n",
    "optimize!(modeloCuatro)\n",
    "println(\"Valor objetivo óptimo: \",objective_value(modeloCuatro))"
   ]
  }
 ],
 "metadata": {
  "kernelspec": {
   "display_name": "Julia 1.1.1",
   "language": "julia",
   "name": "julia-1.1"
  },
  "language_info": {
   "file_extension": ".jl",
   "mimetype": "application/julia",
   "name": "julia",
   "version": "1.1.1"
  }
 },
 "nbformat": 4,
 "nbformat_minor": 2
}
